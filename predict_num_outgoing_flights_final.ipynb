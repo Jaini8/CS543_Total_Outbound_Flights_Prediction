{
 "cells": [
  {
   "cell_type": "code",
   "execution_count": 1,
   "id": "6f7a744d-4696-4ba6-87f8-501ebea65e43",
   "metadata": {},
   "outputs": [],
   "source": [
    "from pyspark.sql import SQLContext\n",
    "from pyspark.sql.types import *\n",
    "import pyspark.sql.functions as F\n",
    "from pyspark.sql import Window\n",
    "from pyspark import StorageLevel\n",
    "\n",
    "import random\n",
    "import pickle\n",
    "import pandas as pd\n",
    "import numpy as np\n",
    "\n",
    "from glob import glob\n",
    "from itertools import *\n",
    "\n",
    "import torch\n",
    "import torch.nn as nn\n",
    "from torch.nn.functional import sigmoid\n",
    "from torch.optim import SGD, Adam\n",
    "from torch.utils.data import TensorDataset, DataLoader"
   ]
  },
  {
   "cell_type": "code",
   "execution_count": 2,
   "id": "0049531e-dccc-4a76-9b1e-a2a8bfc1e014",
   "metadata": {},
   "outputs": [],
   "source": [
    "# makes spark -> pandas conversion faster\n",
    "spark.conf.set(\"spark.sql.execution.arrow.pyspark.enabled\", \"true\")"
   ]
  },
  {
   "cell_type": "code",
   "execution_count": 3,
   "id": "de0a4334-6c5a-4845-9cb0-624447bb161a",
   "metadata": {},
   "outputs": [],
   "source": [
    "labels = [\n",
    "              ('Year', IntegerType()),\n",
    "              ('Month', IntegerType()),\n",
    "              ('DayofMonth', IntegerType()),\n",
    "              ('UniqueCarrier', StringType()),\n",
    "              ('Origin', StringType()),\n",
    "              ('Dest', StringType()),\n",
    "              ('counts', IntegerType())\n",
    "        ]\n",
    "schema = StructType([StructField(x[0], x[1], True) for x in labels])"
   ]
  },
  {
   "cell_type": "code",
   "execution_count": 4,
   "id": "1b00a78b-7135-48fd-b862-765810db763a",
   "metadata": {},
   "outputs": [],
   "source": [
    "data = pd.read_csv('data_reg.csv')\n",
    "data = data.loc[data['Year'] < 2004]\n",
    "data = data.drop(columns=['UniqueCarrier', 'Dest'])\n",
    "data = data.dropna()"
   ]
  },
  {
   "cell_type": "code",
   "execution_count": 5,
   "id": "b5ae7fe8-8373-4f0b-ad7e-d728f8efb238",
   "metadata": {},
   "outputs": [],
   "source": [
    "data = data.groupby(['Year', 'Month', 'DayofMonth', 'Origin'])['counts'].sum().to_frame(name='counts').reset_index()"
   ]
  },
  {
   "cell_type": "code",
   "execution_count": 6,
   "id": "6397a089-394d-4822-9f19-c33d32913f53",
   "metadata": {},
   "outputs": [
    {
     "data": {
      "text/html": [
       "<div>\n",
       "<style scoped>\n",
       "    .dataframe tbody tr th:only-of-type {\n",
       "        vertical-align: middle;\n",
       "    }\n",
       "\n",
       "    .dataframe tbody tr th {\n",
       "        vertical-align: top;\n",
       "    }\n",
       "\n",
       "    .dataframe thead th {\n",
       "        text-align: right;\n",
       "    }\n",
       "</style>\n",
       "<table border=\"1\" class=\"dataframe\">\n",
       "  <thead>\n",
       "    <tr style=\"text-align: right;\">\n",
       "      <th></th>\n",
       "      <th>Year</th>\n",
       "      <th>Month</th>\n",
       "      <th>DayofMonth</th>\n",
       "      <th>Origin</th>\n",
       "      <th>counts</th>\n",
       "    </tr>\n",
       "  </thead>\n",
       "  <tbody>\n",
       "    <tr>\n",
       "      <th>0</th>\n",
       "      <td>2001</td>\n",
       "      <td>1</td>\n",
       "      <td>1</td>\n",
       "      <td>ABE</td>\n",
       "      <td>15</td>\n",
       "    </tr>\n",
       "    <tr>\n",
       "      <th>1</th>\n",
       "      <td>2001</td>\n",
       "      <td>1</td>\n",
       "      <td>1</td>\n",
       "      <td>ABI</td>\n",
       "      <td>8</td>\n",
       "    </tr>\n",
       "    <tr>\n",
       "      <th>2</th>\n",
       "      <td>2001</td>\n",
       "      <td>1</td>\n",
       "      <td>1</td>\n",
       "      <td>ABQ</td>\n",
       "      <td>82</td>\n",
       "    </tr>\n",
       "    <tr>\n",
       "      <th>3</th>\n",
       "      <td>2001</td>\n",
       "      <td>1</td>\n",
       "      <td>1</td>\n",
       "      <td>ACT</td>\n",
       "      <td>8</td>\n",
       "    </tr>\n",
       "    <tr>\n",
       "      <th>4</th>\n",
       "      <td>2001</td>\n",
       "      <td>1</td>\n",
       "      <td>1</td>\n",
       "      <td>ADQ</td>\n",
       "      <td>2</td>\n",
       "    </tr>\n",
       "    <tr>\n",
       "      <th>...</th>\n",
       "      <td>...</td>\n",
       "      <td>...</td>\n",
       "      <td>...</td>\n",
       "      <td>...</td>\n",
       "      <td>...</td>\n",
       "    </tr>\n",
       "    <tr>\n",
       "      <th>251453</th>\n",
       "      <td>2003</td>\n",
       "      <td>12</td>\n",
       "      <td>31</td>\n",
       "      <td>VPS</td>\n",
       "      <td>16</td>\n",
       "    </tr>\n",
       "    <tr>\n",
       "      <th>251454</th>\n",
       "      <td>2003</td>\n",
       "      <td>12</td>\n",
       "      <td>31</td>\n",
       "      <td>WRG</td>\n",
       "      <td>2</td>\n",
       "    </tr>\n",
       "    <tr>\n",
       "      <th>251455</th>\n",
       "      <td>2003</td>\n",
       "      <td>12</td>\n",
       "      <td>31</td>\n",
       "      <td>XNA</td>\n",
       "      <td>23</td>\n",
       "    </tr>\n",
       "    <tr>\n",
       "      <th>251456</th>\n",
       "      <td>2003</td>\n",
       "      <td>12</td>\n",
       "      <td>31</td>\n",
       "      <td>YAK</td>\n",
       "      <td>2</td>\n",
       "    </tr>\n",
       "    <tr>\n",
       "      <th>251457</th>\n",
       "      <td>2003</td>\n",
       "      <td>12</td>\n",
       "      <td>31</td>\n",
       "      <td>YUM</td>\n",
       "      <td>4</td>\n",
       "    </tr>\n",
       "  </tbody>\n",
       "</table>\n",
       "<p>251458 rows × 5 columns</p>\n",
       "</div>"
      ],
      "text/plain": [
       "        Year  Month  DayofMonth Origin  counts\n",
       "0       2001      1           1    ABE      15\n",
       "1       2001      1           1    ABI       8\n",
       "2       2001      1           1    ABQ      82\n",
       "3       2001      1           1    ACT       8\n",
       "4       2001      1           1    ADQ       2\n",
       "...      ...    ...         ...    ...     ...\n",
       "251453  2003     12          31    VPS      16\n",
       "251454  2003     12          31    WRG       2\n",
       "251455  2003     12          31    XNA      23\n",
       "251456  2003     12          31    YAK       2\n",
       "251457  2003     12          31    YUM       4\n",
       "\n",
       "[251458 rows x 5 columns]"
      ]
     },
     "execution_count": 6,
     "metadata": {},
     "output_type": "execute_result"
    }
   ],
   "source": [
    "data"
   ]
  },
  {
   "cell_type": "code",
   "execution_count": 7,
   "id": "413ae963-463c-4077-9244-808065cc7388",
   "metadata": {},
   "outputs": [],
   "source": [
    "from sklearn.preprocessing import LabelEncoder, MinMaxScaler\n",
    "origin_encoder = LabelEncoder()\n",
    "dest_encoder = LabelEncoder()\n",
    "\n",
    "data['Origin'] = origin_encoder.fit_transform(data['Origin'].astype(str))\n",
    "with open('origin_encoder_2_v1.pkl', 'wb') as outfile:\n",
    "    pickle.dump(origin_encoder, outfile)\n",
    "# data['Dest'] = dest_encoder.fit_transform(data['Dest'].astype(str))"
   ]
  },
  {
   "cell_type": "code",
   "execution_count": 8,
   "id": "72e33374-7d67-4446-97e9-4bd8104ef34f",
   "metadata": {},
   "outputs": [
    {
     "data": {
      "text/html": [
       "<div>\n",
       "<style scoped>\n",
       "    .dataframe tbody tr th:only-of-type {\n",
       "        vertical-align: middle;\n",
       "    }\n",
       "\n",
       "    .dataframe tbody tr th {\n",
       "        vertical-align: top;\n",
       "    }\n",
       "\n",
       "    .dataframe thead th {\n",
       "        text-align: right;\n",
       "    }\n",
       "</style>\n",
       "<table border=\"1\" class=\"dataframe\">\n",
       "  <thead>\n",
       "    <tr style=\"text-align: right;\">\n",
       "      <th></th>\n",
       "      <th>Month</th>\n",
       "      <th>DayofMonth</th>\n",
       "      <th>Origin</th>\n",
       "      <th>counts</th>\n",
       "    </tr>\n",
       "  </thead>\n",
       "  <tbody>\n",
       "    <tr>\n",
       "      <th>0</th>\n",
       "      <td>1</td>\n",
       "      <td>1</td>\n",
       "      <td>0</td>\n",
       "      <td>15</td>\n",
       "    </tr>\n",
       "    <tr>\n",
       "      <th>1</th>\n",
       "      <td>1</td>\n",
       "      <td>1</td>\n",
       "      <td>1</td>\n",
       "      <td>8</td>\n",
       "    </tr>\n",
       "    <tr>\n",
       "      <th>2</th>\n",
       "      <td>1</td>\n",
       "      <td>1</td>\n",
       "      <td>2</td>\n",
       "      <td>82</td>\n",
       "    </tr>\n",
       "    <tr>\n",
       "      <th>3</th>\n",
       "      <td>1</td>\n",
       "      <td>1</td>\n",
       "      <td>5</td>\n",
       "      <td>8</td>\n",
       "    </tr>\n",
       "    <tr>\n",
       "      <th>4</th>\n",
       "      <td>1</td>\n",
       "      <td>1</td>\n",
       "      <td>9</td>\n",
       "      <td>2</td>\n",
       "    </tr>\n",
       "    <tr>\n",
       "      <th>...</th>\n",
       "      <td>...</td>\n",
       "      <td>...</td>\n",
       "      <td>...</td>\n",
       "      <td>...</td>\n",
       "    </tr>\n",
       "    <tr>\n",
       "      <th>251453</th>\n",
       "      <td>12</td>\n",
       "      <td>31</td>\n",
       "      <td>282</td>\n",
       "      <td>16</td>\n",
       "    </tr>\n",
       "    <tr>\n",
       "      <th>251454</th>\n",
       "      <td>12</td>\n",
       "      <td>31</td>\n",
       "      <td>283</td>\n",
       "      <td>2</td>\n",
       "    </tr>\n",
       "    <tr>\n",
       "      <th>251455</th>\n",
       "      <td>12</td>\n",
       "      <td>31</td>\n",
       "      <td>285</td>\n",
       "      <td>23</td>\n",
       "    </tr>\n",
       "    <tr>\n",
       "      <th>251456</th>\n",
       "      <td>12</td>\n",
       "      <td>31</td>\n",
       "      <td>286</td>\n",
       "      <td>2</td>\n",
       "    </tr>\n",
       "    <tr>\n",
       "      <th>251457</th>\n",
       "      <td>12</td>\n",
       "      <td>31</td>\n",
       "      <td>287</td>\n",
       "      <td>4</td>\n",
       "    </tr>\n",
       "  </tbody>\n",
       "</table>\n",
       "<p>251458 rows × 4 columns</p>\n",
       "</div>"
      ],
      "text/plain": [
       "        Month  DayofMonth  Origin  counts\n",
       "0           1           1       0      15\n",
       "1           1           1       1       8\n",
       "2           1           1       2      82\n",
       "3           1           1       5       8\n",
       "4           1           1       9       2\n",
       "...       ...         ...     ...     ...\n",
       "251453     12          31     282      16\n",
       "251454     12          31     283       2\n",
       "251455     12          31     285      23\n",
       "251456     12          31     286       2\n",
       "251457     12          31     287       4\n",
       "\n",
       "[251458 rows x 4 columns]"
      ]
     },
     "execution_count": 8,
     "metadata": {},
     "output_type": "execute_result"
    }
   ],
   "source": [
    "data = data.drop(columns=['Year'])\n",
    "data"
   ]
  },
  {
   "cell_type": "code",
   "execution_count": 9,
   "id": "06d69bf8-2e57-4fce-94f4-0ed1e5966e56",
   "metadata": {},
   "outputs": [],
   "source": [
    "from sklearn.model_selection import train_test_split\n",
    "train_set, valid_set = train_test_split(data, test_size=0.2)\n",
    "valid_set, test_set = train_test_split(valid_set, test_size=0.5)"
   ]
  },
  {
   "cell_type": "code",
   "execution_count": 10,
   "id": "cb4d8c07-1fad-40c3-9d25-f1d55723d434",
   "metadata": {},
   "outputs": [],
   "source": [
    "# counts_scaler = MinMaxScaler()\n",
    "# counts = train_set.to_numpy()[:, -1]\n",
    "# counts = np.expand_dims(counts, axis=1)\n",
    "# counts_scaler.fit(counts)\n",
    "\n",
    "# with open('counts_scaler.pkl', 'wb') as outfile:\n",
    "#     pickle.dump(counts_scaler, outfile)"
   ]
  },
  {
   "cell_type": "code",
   "execution_count": 11,
   "id": "b3578a98-0360-4c68-8842-49bdca54036a",
   "metadata": {},
   "outputs": [],
   "source": [
    "# train_set['counts'] = counts_scaler.transform(train_set[['counts']])\n",
    "# valid_set['counts'] = counts_scaler.transform(valid_set[['counts']])\n",
    "# test_set['counts'] = counts_scaler.transform(test_set[['counts']])"
   ]
  },
  {
   "cell_type": "code",
   "execution_count": 12,
   "id": "d1b073fb-cfd4-4595-bb17-15104489495d",
   "metadata": {},
   "outputs": [],
   "source": [
    "def convert_pandas_dataframe_to_pytorch_dataset(df):\n",
    "    df = df.to_numpy()\n",
    "    df = torch.from_numpy(df).float()\n",
    "    X, y = df[:, : -1], df[:, -1].unsqueeze(1)\n",
    "    return TensorDataset(X, y)"
   ]
  },
  {
   "cell_type": "code",
   "execution_count": 13,
   "id": "b58f6275-6b21-4b2a-87c7-59ae24632bbf",
   "metadata": {},
   "outputs": [],
   "source": [
    "train_set = convert_pandas_dataframe_to_pytorch_dataset(train_set)\n",
    "valid_set = convert_pandas_dataframe_to_pytorch_dataset(valid_set)\n",
    "test_set = convert_pandas_dataframe_to_pytorch_dataset(test_set)"
   ]
  },
  {
   "cell_type": "code",
   "execution_count": 14,
   "id": "52e0c61e-5aaf-44ef-9e7a-41c982717ee6",
   "metadata": {},
   "outputs": [],
   "source": [
    "hidden1 = repeat( (nn.Linear(8, 8), nn.ReLU()), 50)\n",
    "hidden1 = chain.from_iterable(hidden1)\n",
    "\n",
    "hidden2 = repeat( (nn.Linear(5, 5), nn.ReLU()), 50)\n",
    "hidden2 = chain.from_iterable(hidden2)\n",
    "\n",
    "hidden3 = repeat( (nn.Linear(5, 5), nn.ReLU()), 50)\n",
    "hidden3 = chain.from_iterable(hidden3)"
   ]
  },
  {
   "cell_type": "code",
   "execution_count": 15,
   "id": "f4375ac1-9f87-4342-9131-a2c55dfb76e9",
   "metadata": {},
   "outputs": [],
   "source": [
    "class M(torch.nn.Module):\n",
    "    def __init__(self, num_origin, num_dest):\n",
    "        \"\"\"\n",
    "        In the constructor we instantiate two nn.Linear modules and assign them as\n",
    "        member variables.\n",
    "        \"\"\"\n",
    "        super(M, self).__init__()\n",
    "        self.emb_size = 128\n",
    "        self.origin_embs = nn.Embedding(num_origin, self.emb_size)\n",
    "#         self.dest_embs = nn.Embedding(num_dest, self.emb_size)\n",
    "        self.month_embs = nn.Embedding(13, self.emb_size)\n",
    "        self.day_embs = nn.Embedding(32, self.emb_size)\n",
    "        \n",
    "        length = 3 * self.emb_size\n",
    "        self.predictor = nn.Sequential(\n",
    "                            nn.Linear(length, 8),\n",
    "                            nn.ReLU(),\n",
    "                            *hidden1,                \n",
    "                            nn.Linear(8, 5),\n",
    "                            nn.BatchNorm1d(5),\n",
    "                            nn.ReLU(),\n",
    "                            *hidden2,\n",
    "                            nn.BatchNorm1d(5),\n",
    "                            *hidden3,\n",
    "                            nn.BatchNorm1d(5),\n",
    "                            nn.Linear(5, 2),\n",
    "                            nn.ReLU(),\n",
    "                            nn.Linear(2, 1),\n",
    "                        )\n",
    "\n",
    "    def forward(self, X):\n",
    "        \"\"\"\n",
    "        In the forward function we accept a Tensor of input data and we must return\n",
    "        a Tensor of output data. We can use Modules defined in the constructor as\n",
    "        well as arbitrary operators on Tensors.\n",
    "        \"\"\"\n",
    "        month, day, origin = X[:, 0], X[:, 1], X[:, 2]\n",
    "        \n",
    "        origin_embs = self.origin_embs(origin.int())\n",
    "#         dest_embs = self.dest_embs(dest.int())\n",
    "        month_embs = self.month_embs(month.int())\n",
    "        day_embs = self.day_embs(day.int())\n",
    "        \n",
    "        X = torch.hstack([month_embs, day_embs, origin_embs])\n",
    "        y_pred = self.predictor(X)\n",
    "        return y_pred"
   ]
  },
  {
   "cell_type": "code",
   "execution_count": 18,
   "id": "edcd780d-f878-410c-9a24-f3c9d818c978",
   "metadata": {},
   "outputs": [
    {
     "data": {
      "application/vnd.jupyter.widget-view+json": {
       "model_id": "c1fc1f8bb2704f199305b5b11a607893",
       "version_major": 2,
       "version_minor": 0
      },
      "text/plain": [
       "  0%|          | 0/100 [00:00<?, ?it/s]"
      ]
     },
     "metadata": {},
     "output_type": "display_data"
    },
    {
     "name": "stdout",
     "output_type": "stream",
     "text": [
      "Stopping early, the loss has diverged\n",
      "Learning rate search finished. See the graph with {finder_name}.plot()\n",
      "LR suggestion: steepest gradient\n",
      "Suggested LR: 1.56E-03\n"
     ]
    },
    {
     "data": {
      "image/png": "[encoded data removed]",
      "text/plain": [
       "<Figure size 432x288 with 1 Axes>"
      ]
     },
     "metadata": {
      "needs_background": "light"
     },
     "output_type": "display_data"
    },
    {
     "data": {
      "text/plain": [
       "(<AxesSubplot:xlabel='Learning rate', ylabel='Loss'>, 0.0015556761439304723)"
      ]
     },
     "execution_count": 18,
     "metadata": {},
     "output_type": "execute_result"
    }
   ],
   "source": [
    "from torch_lr_finder import LRFinder\n",
    "from copy import deepcopy\n",
    "num_origin = len(origin_encoder.classes_)\n",
    "# num_dest = len(dest_encoder.classes_)\n",
    "m = M(num_origin, None).cuda()\n",
    "model = deepcopy(m)\n",
    "optimizer = SGD(model.parameters(), lr=1e-5)\n",
    "loss_fn = nn.MSELoss()\n",
    "lr_finder = LRFinder(model, optimizer, loss_fn, device=\"cuda\")\n",
    "train_dataloader = DataLoader(train_set, batch_size=1024 * 64, shuffle=True)\n",
    "lr_finder.range_test(train_dataloader, end_lr=100, num_iter=100)\n",
    "lr_finder.plot()"
   ]
  },
  {
   "cell_type": "code",
   "execution_count": 20,
   "id": "4f899397-52c6-41bc-87b7-e650fe2ad257",
   "metadata": {},
   "outputs": [
    {
     "data": {
      "application/vnd.jupyter.widget-view+json": {
       "model_id": "31380c0c9eb746e2b5afe9a17bf67663",
       "version_major": 2,
       "version_minor": 0
      },
      "text/plain": [
       "  0%|          | 0/400 [00:00<?, ?it/s]"
      ]
     },
     "metadata": {},
     "output_type": "display_data"
    },
    {
     "name": "stdout",
     "output_type": "stream",
     "text": [
      "0 96924.34765625 23143.419921875\n",
      "10 94959.0546875 23049.14453125\n",
      "20 94313.099609375 22357.5078125\n",
      "30 15911.890625 7692.779296875\n",
      "40 5217.3897705078125 3827.829345703125\n",
      "50 4453.045166015625 1123.7694091796875\n",
      "60 4176.826843261719 932.1856689453125\n",
      "70 3793.0310668945312 909.8191528320312\n",
      "80 3551.8071899414062 864.5204467773438\n",
      "90 3449.3736572265625 801.9570922851562\n",
      "100 2934.4683837890625 699.2201538085938\n",
      "110 2566.2067260742188 695.6558227539062\n",
      "120 2283.533447265625 571.9515991210938\n",
      "130 2308.0479125976562 619.63037109375\n",
      "140 2145.1244506835938 548.5498046875\n",
      "150 2179.792236328125 533.7880249023438\n",
      "160 2171.0757446289062 572.0164184570312\n",
      "170 2111.6981201171875 519.8736572265625\n",
      "180 2099.931182861328 526.3319702148438\n",
      "190 2242.3455200195312 514.199951171875\n",
      "200 2094.2494201660156 542.15673828125\n",
      "210 2008.8706359863281 521.1221313476562\n",
      "220 2005.0696411132812 511.4708557128906\n",
      "230 2137.3546752929688 514.8580322265625\n",
      "240 2038.3063049316406 505.0730285644531\n",
      "250 2020.9572143554688 532.9537963867188\n",
      "260 2117.7549438476562 504.8546142578125\n",
      "270 2048.654754638672 508.86248779296875\n",
      "280 2083.9430541992188 515.1907958984375\n",
      "290 2101.360809326172 517.0424194335938\n",
      "300 2124.69091796875 504.7718200683594\n",
      "310 2101.1017456054688 504.692138671875\n",
      "320 2019.5863952636719 504.8570251464844\n",
      "330 2011.8056945800781 500.2204895019531\n",
      "340 1967.6100158691406 501.3863525390625\n",
      "350 1991.2367553710938 501.2605895996094\n",
      "360 2033.9114074707031 499.158447265625\n",
      "370 2053.7740478515625 498.7801513671875\n",
      "380 2015.4686279296875 498.7652282714844\n",
      "390 1939.631591796875 498.3243713378906\n"
     ]
    }
   ],
   "source": [
    "from tqdm.notebook import tqdm\n",
    "\n",
    "train_losses = []\n",
    "valid_losses = []\n",
    "\n",
    "num_origin = len(origin_encoder.classes_)\n",
    "# num_dest = len(dest_encoder.classes_)\n",
    "model = M(num_origin, None).cuda()\n",
    "# model = m\n",
    "\n",
    "train_dataloader = DataLoader(train_set, batch_size=1024 * 64, shuffle=True) \n",
    "valid_dataloader = DataLoader(valid_set, batch_size=1024 * 64)\n",
    "\n",
    "optimizer = SGD(model.parameters(), lr=1e-4)\n",
    "scheduler = torch.optim.lr_scheduler.OneCycleLR(optimizer, max_lr=1e-4, steps_per_epoch=len(train_dataloader), epochs=400)\n",
    "loss_fn = nn.MSELoss()\n",
    "\n",
    "for epoch in tqdm(range(400)):\n",
    "    \n",
    "    epoch_train_loss = 0.0\n",
    "    epoch_valid_loss = 0.0\n",
    "    \n",
    "    optimizer.zero_grad()\n",
    "    \n",
    "    model.train()\n",
    "    for X, y in train_dataloader:\n",
    "        optimizer.zero_grad()\n",
    "        \n",
    "        X = X.cuda()\n",
    "        y = y.cuda()\n",
    "        \n",
    "        pred_y = model(X)\n",
    "        loss = loss_fn(pred_y, y)\n",
    "        epoch_train_loss += loss.item()\n",
    "        \n",
    "        loss.backward()\n",
    "        optimizer.step()\n",
    "        scheduler.step()\n",
    "        \n",
    "    model.eval()\n",
    "    with torch.no_grad():\n",
    "        for X, y in valid_dataloader:\n",
    "            X = X.cuda()\n",
    "            y = y.cuda()\n",
    "            \n",
    "            pred_y = model(X)\n",
    "            loss = loss_fn(pred_y, y)\n",
    "            epoch_valid_loss += loss.item()\n",
    "        \n",
    "    \n",
    "    train_losses.append(epoch_train_loss)\n",
    "    valid_losses.append(epoch_valid_loss)\n",
    "#     scheduler.step(epoch_valid_loss)\n",
    "    if epoch%10 == 0:\n",
    "        print(epoch, epoch_train_loss, epoch_valid_loss)  \n",
    "#         torch.save(model, f'chk_2/chk_{epoch}.pt')"
   ]
  },
  {
   "cell_type": "code",
   "execution_count": 34,
   "id": "97a2b425-6c22-46f0-bcbe-fc32e37c4de8",
   "metadata": {},
   "outputs": [
    {
     "data": {
      "text/plain": [
       "[<matplotlib.lines.Line2D at 0x7f3e1c609250>]"
      ]
     },
     "execution_count": 34,
     "metadata": {},
     "output_type": "execute_result"
    },
    {
     "data": {
      "image/png": "[encoded data removed]",
      "text/plain": [
       "<Figure size 432x288 with 1 Axes>"
      ]
     },
     "metadata": {
      "needs_background": "light"
     },
     "output_type": "display_data"
    }
   ],
   "source": [
    "import matplotlib.pyplot as plt\n",
    "plt.plot(train_losses[250: ])"
   ]
  },
  {
   "cell_type": "code",
   "execution_count": 35,
   "id": "579df04e-26d1-45a3-b0a1-7a9240873249",
   "metadata": {},
   "outputs": [
    {
     "data": {
      "text/plain": [
       "[<matplotlib.lines.Line2D at 0x7f3dd017e6d0>]"
      ]
     },
     "execution_count": 35,
     "metadata": {},
     "output_type": "execute_result"
    },
    {
     "data": {
      "image/png": "[encoded data removed]",
      "text/plain": [
       "<Figure size 432x288 with 1 Axes>"
      ]
     },
     "metadata": {
      "needs_background": "light"
     },
     "output_type": "display_data"
    }
   ],
   "source": [
    "plt.plot(valid_losses[250:])"
   ]
  },
  {
   "cell_type": "code",
   "execution_count": 36,
   "id": "32d26102-6f6d-4b8e-a3af-c534744245da",
   "metadata": {},
   "outputs": [],
   "source": [
    "torch.save(model, 'model_v3.pt')"
   ]
  },
  {
   "cell_type": "markdown",
   "id": "587247dc-8d9f-4c68-8f1f-97cb3feed3fe",
   "metadata": {},
   "source": [
    "### Testing"
   ]
  },
  {
   "cell_type": "code",
   "execution_count": 23,
   "id": "1595cd1a-66c2-4fc8-94c9-2d312c72c9eb",
   "metadata": {},
   "outputs": [],
   "source": [
    "# model = torch.load('model_outgoing_flights_2.pt')"
   ]
  },
  {
   "cell_type": "code",
   "execution_count": 24,
   "id": "cc49a740-8080-4a49-a128-cfbd5c291fb6",
   "metadata": {},
   "outputs": [],
   "source": [
    "model.eval()\n",
    "X, y = test_set.tensors"
   ]
  },
  {
   "cell_type": "code",
   "execution_count": 25,
   "id": "2b58dab9-2a67-47b0-b428-c425081da459",
   "metadata": {},
   "outputs": [],
   "source": [
    "y_pred = model(X.cuda())"
   ]
  },
  {
   "cell_type": "markdown",
   "id": "d0f13e45-0a96-411b-8eaa-401638ff7e13",
   "metadata": {},
   "source": [
    "MSE error"
   ]
  },
  {
   "cell_type": "code",
   "execution_count": 26,
   "id": "787a78fd-d985-40dc-85db-8879d0051a7f",
   "metadata": {},
   "outputs": [
    {
     "data": {
      "text/plain": [
       "tensor(499.8747, device='cuda:0', grad_fn=<MseLossBackward>)"
      ]
     },
     "execution_count": 26,
     "metadata": {},
     "output_type": "execute_result"
    }
   ],
   "source": [
    "mse_err_fn = nn.MSELoss()\n",
    "mse_err_fn(y_pred, y.cuda())"
   ]
  },
  {
   "cell_type": "markdown",
   "id": "a9f5bb1b-0416-44bd-8581-2d8ba6d63818",
   "metadata": {},
   "source": [
    "RMSE error"
   ]
  },
  {
   "cell_type": "code",
   "execution_count": 29,
   "id": "cb3f4730-57e7-43e9-a950-19c0e51e0a83",
   "metadata": {},
   "outputs": [
    {
     "data": {
      "text/plain": [
       "tensor(22.3579, device='cuda:0', grad_fn=<SqrtBackward>)"
      ]
     },
     "execution_count": 29,
     "metadata": {},
     "output_type": "execute_result"
    }
   ],
   "source": [
    "mse_err_fn = nn.MSELoss()\n",
    "torch.sqrt(mse_err_fn(y_pred, y.cuda()))"
   ]
  },
  {
   "cell_type": "markdown",
   "id": "cb7eefc6-9a8f-4d59-a350-0cd5624c9ad8",
   "metadata": {},
   "source": [
    "MAP error"
   ]
  },
  {
   "cell_type": "code",
   "execution_count": 27,
   "id": "ad8dd11d-b84e-4b68-8edc-fe6c6dc1c283",
   "metadata": {},
   "outputs": [
    {
     "data": {
      "text/plain": [
       "tensor(9.4589, device='cuda:0', grad_fn=<L1LossBackward>)"
      ]
     },
     "execution_count": 27,
     "metadata": {},
     "output_type": "execute_result"
    }
   ],
   "source": [
    "l1_err_fn = nn.L1Loss()\n",
    "l1_err_fn(y_pred, y.cuda())"
   ]
  },
  {
   "cell_type": "markdown",
   "id": "00c50e84-f305-44b5-ae43-335cbb6d5ec9",
   "metadata": {},
   "source": [
    "R2 score"
   ]
  },
  {
   "cell_type": "code",
   "execution_count": 28,
   "id": "08c914e9-0e3f-4f74-a56b-511ddec231fb",
   "metadata": {},
   "outputs": [
    {
     "data": {
      "text/plain": [
       "0.9735520134332635"
      ]
     },
     "execution_count": 28,
     "metadata": {},
     "output_type": "execute_result"
    }
   ],
   "source": [
    "from sklearn.metrics import r2_score\n",
    "r2 = r2_score(y.detach().cpu().numpy(),y_pred.detach().cpu().numpy())\n",
    "r2"
   ]
  }
 ],
 "metadata": {
  "kernelspec": {
   "display_name": "Spark 3 in Python 3",
   "language": "python",
   "name": "pyspark3"
  },
  "language_info": {
   "codemirror_mode": {
    "name": "ipython",
    "version": 3
   },
   "file_extension": ".py",
   "mimetype": "text/x-python",
   "name": "python",
   "nbconvert_exporter": "python",
   "pygments_lexer": "ipython3",
   "version": "3.8.10"
  }
 },
 "nbformat": 4,
 "nbformat_minor": 5
}
